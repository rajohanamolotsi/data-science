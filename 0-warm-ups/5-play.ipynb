{
 "cells": [
  {
   "cell_type": "code",
   "execution_count": 39,
   "id": "baf9d427",
   "metadata": {},
   "outputs": [],
   "source": [
    "import random as r"
   ]
  },
  {
   "cell_type": "markdown",
   "id": "58ea9716",
   "metadata": {},
   "source": [
    "- Use the choice function for the 30s"
   ]
  },
  {
   "cell_type": "code",
   "execution_count": 40,
   "id": "aaea3193",
   "metadata": {},
   "outputs": [
    {
     "name": "stdout",
     "output_type": "stream",
     "text": [
      "9\n",
      "9\n",
      "8\n"
     ]
    }
   ],
   "source": [
    "for _ in range(3):\n",
    "    print(r.randrange(1, 11))"
   ]
  },
  {
   "cell_type": "code",
   "execution_count": 41,
   "id": "f741642d",
   "metadata": {},
   "outputs": [
    {
     "name": "stdout",
     "output_type": "stream",
     "text": [
      "Help on method randrange in module random:\n",
      "\n",
      "randrange(start, stop=None, step=1) method of random.Random instance\n",
      "    Choose a random item from range(stop) or range(start, stop[, step]).\n",
      "\n",
      "    Roughly equivalent to ``choice(range(start, stop, step))`` but\n",
      "    supports arbitrarily large ranges and is optimized for common cases.\n",
      "\n"
     ]
    }
   ],
   "source": [
    "help(r.randrange)"
   ]
  },
  {
   "cell_type": "code",
   "execution_count": 42,
   "id": "8faeea72",
   "metadata": {},
   "outputs": [],
   "source": [
    "lotto_nums = list(range(1, 30))\n",
    "bonus_num = list(range(30, 37))"
   ]
  },
  {
   "cell_type": "code",
   "execution_count": 43,
   "id": "3e0865b0",
   "metadata": {},
   "outputs": [
    {
     "name": "stdout",
     "output_type": "stream",
     "text": [
      "[1, 7, 21, 25] [34]\n",
      "[2, 4, 10, 16] [33]\n",
      "[2, 17, 20, 21] [32]\n",
      "[5, 13, 17, 28] [31]\n",
      "[9, 24, 25, 29] [31]\n",
      "[14, 16, 20, 23] [31]\n",
      "[8, 9, 12, 15] [31]\n"
     ]
    }
   ],
   "source": [
    "for _ in range(7):\n",
    "    print(sorted(r.sample(lotto_nums, 4)), r.sample(bonus_num, 1))"
   ]
  },
  {
   "cell_type": "code",
   "execution_count": 44,
   "id": "ff37e024",
   "metadata": {},
   "outputs": [
    {
     "name": "stdout",
     "output_type": "stream",
     "text": [
      "Help on method choices in module random:\n",
      "\n",
      "choices(population, weights=None, *, cum_weights=None, k=1) method of random.Random instance\n",
      "    Return a k sized list of population elements chosen with replacement.\n",
      "\n",
      "    If the relative weights or cumulative weights are not specified,\n",
      "    the selections are made with equal probability.\n",
      "\n"
     ]
    }
   ],
   "source": [
    "help(r.choices)"
   ]
  },
  {
   "cell_type": "code",
   "execution_count": 45,
   "id": "e97dc0c0",
   "metadata": {},
   "outputs": [],
   "source": [
    "nums = [1, 13, 26, 29, 36]"
   ]
  },
  {
   "cell_type": "code",
   "execution_count": 46,
   "id": "6cf56d1d",
   "metadata": {},
   "outputs": [
    {
     "name": "stdout",
     "output_type": "stream",
     "text": [
      "[29, 29, 26, 36, 36]\n",
      "[36, 29, 36, 36, 26]\n",
      "[36, 36, 29, 1, 13]\n",
      "[29, 29, 26, 36, 29]\n",
      "[36, 1, 29, 29, 26]\n"
     ]
    }
   ],
   "source": [
    "for _ in range(5):\n",
    "    print(r.choices(nums, weights=[.4, .1, .2, .9, 1], k=5))"
   ]
  },
  {
   "cell_type": "code",
   "execution_count": null,
   "id": "1870920a",
   "metadata": {},
   "outputs": [],
   "source": []
  }
 ],
 "metadata": {
  "kernelspec": {
   "display_name": "Python 3",
   "language": "python",
   "name": "python3"
  },
  "language_info": {
   "codemirror_mode": {
    "name": "ipython",
    "version": 3
   },
   "file_extension": ".py",
   "mimetype": "text/x-python",
   "name": "python",
   "nbconvert_exporter": "python",
   "pygments_lexer": "ipython3",
   "version": "3.13.5"
  }
 },
 "nbformat": 4,
 "nbformat_minor": 5
}
