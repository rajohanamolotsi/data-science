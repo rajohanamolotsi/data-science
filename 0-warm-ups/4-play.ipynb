{
 "cells": [
  {
   "cell_type": "code",
   "execution_count": 11,
   "id": "6b5dfcc4",
   "metadata": {},
   "outputs": [],
   "source": [
    "import random, torch"
   ]
  },
  {
   "cell_type": "code",
   "execution_count": 12,
   "id": "4905edf0",
   "metadata": {},
   "outputs": [],
   "source": [
    "population = [1, 2, 3, 4, 100, 100]"
   ]
  },
  {
   "cell_type": "code",
   "execution_count": null,
   "id": "426d8cd5",
   "metadata": {},
   "outputs": [
    {
     "name": "stdout",
     "output_type": "stream",
     "text": [
      "[100, 4]\n",
      "[4, 2]\n",
      "[100, 2]\n",
      "[1, 2]\n",
      "[4, 100]\n",
      "[1, 100]\n",
      "[1, 2]\n",
      "[4, 2]\n",
      "[3, 4]\n",
      "[1, 100]\n",
      "[3, 3]\n",
      "[100, 100]\n",
      "[100, 3]\n",
      "[3, 1]\n",
      "[2, 1]\n",
      "[4, 4]\n",
      "[4, 2]\n",
      "[3, 2]\n",
      "[4, 4]\n",
      "[100, 2]\n"
     ]
    },
    {
     "ename": "",
     "evalue": "",
     "output_type": "error",
     "traceback": [
      "\u001b[1;31mThe Kernel crashed while executing code in the current cell or a previous cell. \n",
      "\u001b[1;31mPlease review the code in the cell(s) to identify a possible cause of the failure. \n",
      "\u001b[1;31mClick <a href='https://aka.ms/vscodeJupyterKernelCrash'>here</a> for more info. \n",
      "\u001b[1;31mView Jupyter <a href='command:jupyter.viewOutput'>log</a> for further details."
     ]
    }
   ],
   "source": [
    "for _ in range(20):\n",
    "    print(random.choices(population, weights=[.2, .2, .2, .2, .1, .1], k=2))"
   ]
  },
  {
   "cell_type": "code",
   "execution_count": 17,
   "id": "51c1c181",
   "metadata": {},
   "outputs": [
    {
     "name": "stdout",
     "output_type": "stream",
     "text": [
      "Help on method choices in module random:\n",
      "\n",
      "choices(population, weights=None, *, cum_weights=None, k=1) method of random.Random instance\n",
      "    Return a k sized list of population elements chosen with replacement.\n",
      "\n",
      "    If the relative weights or cumulative weights are not specified,\n",
      "    the selections are made with equal probability.\n",
      "\n"
     ]
    }
   ],
   "source": [
    "help(random.choices)"
   ]
  },
  {
   "cell_type": "code",
   "execution_count": null,
   "id": "30befea0",
   "metadata": {},
   "outputs": [],
   "source": []
  }
 ],
 "metadata": {
  "kernelspec": {
   "display_name": "Python 3",
   "language": "python",
   "name": "python3"
  },
  "language_info": {
   "codemirror_mode": {
    "name": "ipython",
    "version": 3
   },
   "file_extension": ".py",
   "mimetype": "text/x-python",
   "name": "python",
   "nbconvert_exporter": "python",
   "pygments_lexer": "ipython3",
   "version": "3.13.3"
  }
 },
 "nbformat": 4,
 "nbformat_minor": 5
}
