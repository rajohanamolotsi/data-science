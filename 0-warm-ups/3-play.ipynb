{
 "cells": [
  {
   "cell_type": "markdown",
   "id": "0955c726",
   "metadata": {},
   "source": [
    "## Objective Fucntions in Machine Learning"
   ]
  },
  {
   "cell_type": "markdown",
   "id": "f78f05ea",
   "metadata": {},
   "source": [
    "### Cross entropy"
   ]
  },
  {
   "cell_type": "code",
   "execution_count": 24,
   "id": "b32c92fb",
   "metadata": {},
   "outputs": [],
   "source": [
    "import numpy as np"
   ]
  },
  {
   "cell_type": "code",
   "execution_count": 25,
   "id": "f5d49923",
   "metadata": {},
   "outputs": [],
   "source": [
    "def cross_entropy(p, q):\n",
    "    return -sum([p[i] * np.log(q[i]) for i in range(len(p))])"
   ]
  },
  {
   "cell_type": "code",
   "execution_count": 26,
   "id": "1ac87f36",
   "metadata": {},
   "outputs": [],
   "source": [
    "p, q = [0, 0, 0, 1], [.45, .2, .02, .33]"
   ]
  },
  {
   "cell_type": "code",
   "execution_count": 27,
   "id": "7a74195c",
   "metadata": {},
   "outputs": [
    {
     "data": {
      "text/plain": [
       "1.1086626245216111"
      ]
     },
     "execution_count": 27,
     "metadata": {},
     "output_type": "execute_result"
    }
   ],
   "source": [
    "float(cross_entropy(p, q))"
   ]
  }
 ],
 "metadata": {
  "kernelspec": {
   "display_name": "Python 3",
   "language": "python",
   "name": "python3"
  },
  "language_info": {
   "codemirror_mode": {
    "name": "ipython",
    "version": 3
   },
   "file_extension": ".py",
   "mimetype": "text/x-python",
   "name": "python",
   "nbconvert_exporter": "python",
   "pygments_lexer": "ipython3",
   "version": "3.13.3"
  }
 },
 "nbformat": 4,
 "nbformat_minor": 5
}
