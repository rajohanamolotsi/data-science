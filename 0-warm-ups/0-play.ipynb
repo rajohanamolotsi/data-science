{
 "cells": [
  {
   "cell_type": "code",
   "execution_count": 51,
   "id": "ccb3f24d",
   "metadata": {},
   "outputs": [],
   "source": [
    "users = [\n",
    "    {'id': 0, 'name': 'Hero'},\n",
    "    {'id': 1, 'name': 'Dunn'},\n",
    "    {'id': 2, 'name': 'Sue'},\n",
    "    {'id': 3, 'name': 'Chi'},\n",
    "    {'id': 4, 'name': 'Thor'},\n",
    "    {'id': 5, 'name': 'Clive'},\n",
    "    {'id': 6, 'name': 'Hicks'},\n",
    "    {'id': 7, 'name': 'Devin'},\n",
    "    {'id': 8, 'name': 'Kate'},\n",
    "    {'id': 9, 'name': 'Klein'}\n",
    "]"
   ]
  },
  {
   "cell_type": "code",
   "execution_count": 52,
   "id": "772947f0",
   "metadata": {},
   "outputs": [
    {
     "data": {
      "text/plain": [
       "[{'id': 0, 'name': 'Hero'},\n",
       " {'id': 1, 'name': 'Dunn'},\n",
       " {'id': 2, 'name': 'Sue'},\n",
       " {'id': 3, 'name': 'Chi'},\n",
       " {'id': 4, 'name': 'Thor'},\n",
       " {'id': 5, 'name': 'Clive'},\n",
       " {'id': 6, 'name': 'Hicks'},\n",
       " {'id': 7, 'name': 'Devin'},\n",
       " {'id': 8, 'name': 'Kate'},\n",
       " {'id': 9, 'name': 'Klein'}]"
      ]
     },
     "execution_count": 52,
     "metadata": {},
     "output_type": "execute_result"
    }
   ],
   "source": [
    "users"
   ]
  },
  {
   "cell_type": "code",
   "execution_count": 53,
   "id": "3092cf02",
   "metadata": {},
   "outputs": [],
   "source": [
    "# users['Hero']"
   ]
  },
  {
   "cell_type": "code",
   "execution_count": 54,
   "id": "c59fe386",
   "metadata": {},
   "outputs": [],
   "source": [
    "friendships = [\n",
    "    (0, 1), (0, 2), (1, 2), (1, 3), (2, 3), (3, 4),\n",
    "    (4, 5), (5, 6), (5, 7), (6, 8), (7, 8), (8, 9)\n",
    "]"
   ]
  },
  {
   "cell_type": "code",
   "execution_count": 55,
   "id": "e7cd0c18",
   "metadata": {},
   "outputs": [
    {
     "data": {
      "text/plain": [
       "[(0, 1),\n",
       " (0, 2),\n",
       " (1, 2),\n",
       " (1, 3),\n",
       " (2, 3),\n",
       " (3, 4),\n",
       " (4, 5),\n",
       " (5, 6),\n",
       " (5, 7),\n",
       " (6, 8),\n",
       " (7, 8),\n",
       " (8, 9)]"
      ]
     },
     "execution_count": 55,
     "metadata": {},
     "output_type": "execute_result"
    }
   ],
   "source": [
    "friendships"
   ]
  },
  {
   "cell_type": "code",
   "execution_count": 56,
   "id": "9e06d465",
   "metadata": {},
   "outputs": [],
   "source": [
    "for user in users:\n",
    "    user['friends'] = []"
   ]
  },
  {
   "cell_type": "code",
   "execution_count": 57,
   "id": "c3b56ccc",
   "metadata": {},
   "outputs": [
    {
     "data": {
      "text/plain": [
       "[{'id': 0, 'name': 'Hero', 'friends': []},\n",
       " {'id': 1, 'name': 'Dunn', 'friends': []},\n",
       " {'id': 2, 'name': 'Sue', 'friends': []},\n",
       " {'id': 3, 'name': 'Chi', 'friends': []},\n",
       " {'id': 4, 'name': 'Thor', 'friends': []},\n",
       " {'id': 5, 'name': 'Clive', 'friends': []},\n",
       " {'id': 6, 'name': 'Hicks', 'friends': []},\n",
       " {'id': 7, 'name': 'Devin', 'friends': []},\n",
       " {'id': 8, 'name': 'Kate', 'friends': []},\n",
       " {'id': 9, 'name': 'Klein', 'friends': []}]"
      ]
     },
     "execution_count": 57,
     "metadata": {},
     "output_type": "execute_result"
    }
   ],
   "source": [
    "users"
   ]
  },
  {
   "cell_type": "code",
   "execution_count": 58,
   "id": "60c1aee8",
   "metadata": {},
   "outputs": [],
   "source": [
    "for i, j in friendships:\n",
    "    users[i]['friends'].append(users[j])\n",
    "    users[j]['friends'].append(users[i])"
   ]
  },
  {
   "cell_type": "code",
   "execution_count": 59,
   "id": "60408580",
   "metadata": {},
   "outputs": [
    {
     "name": "stdout",
     "output_type": "stream",
     "text": [
      "Hero's friends: ['Dunn', 'Sue']\n",
      "Dunn's friends: ['Hero', 'Sue', 'Chi']\n",
      "Sue's friends: ['Hero', 'Dunn', 'Chi']\n",
      "Chi's friends: ['Dunn', 'Sue', 'Thor']\n",
      "Thor's friends: ['Chi', 'Clive']\n",
      "Clive's friends: ['Thor', 'Hicks', 'Devin']\n",
      "Hicks's friends: ['Clive', 'Kate']\n",
      "Devin's friends: ['Clive', 'Kate']\n",
      "Kate's friends: ['Hicks', 'Devin', 'Klein']\n",
      "Klein's friends: ['Kate']\n"
     ]
    }
   ],
   "source": [
    "for user in users:\n",
    "    print(f\"{user['name']}'s friends: {[friend['name'] for friend in user['friends']]}\")"
   ]
  },
  {
   "cell_type": "code",
   "execution_count": 60,
   "id": "ee44e87a",
   "metadata": {},
   "outputs": [
    {
     "data": {
      "text/plain": [
       "{'id': 9,\n",
       " 'name': 'Klein',\n",
       " 'friends': [{'id': 8,\n",
       "   'name': 'Kate',\n",
       "   'friends': [{'id': 6,\n",
       "     'name': 'Hicks',\n",
       "     'friends': [{'id': 5,\n",
       "       'name': 'Clive',\n",
       "       'friends': [{'id': 4,\n",
       "         'name': 'Thor',\n",
       "         'friends': [{'id': 3,\n",
       "           'name': 'Chi',\n",
       "           'friends': [{'id': 1,\n",
       "             'name': 'Dunn',\n",
       "             'friends': [{'id': 0,\n",
       "               'name': 'Hero',\n",
       "               'friends': [{...},\n",
       "                {'id': 2, 'name': 'Sue', 'friends': [{...}, {...}, {...}]}]},\n",
       "              {'id': 2,\n",
       "               'name': 'Sue',\n",
       "               'friends': [{'id': 0,\n",
       "                 'name': 'Hero',\n",
       "                 'friends': [{...}, {...}]},\n",
       "                {...},\n",
       "                {...}]},\n",
       "              {...}]},\n",
       "            {'id': 2,\n",
       "             'name': 'Sue',\n",
       "             'friends': [{'id': 0,\n",
       "               'name': 'Hero',\n",
       "               'friends': [{'id': 1,\n",
       "                 'name': 'Dunn',\n",
       "                 'friends': [{...}, {...}, {...}]},\n",
       "                {...}]},\n",
       "              {'id': 1,\n",
       "               'name': 'Dunn',\n",
       "               'friends': [{'id': 0,\n",
       "                 'name': 'Hero',\n",
       "                 'friends': [{...}, {...}]},\n",
       "                {...},\n",
       "                {...}]},\n",
       "              {...}]},\n",
       "            {...}]},\n",
       "          {...}]},\n",
       "        {...},\n",
       "        {'id': 7, 'name': 'Devin', 'friends': [{...}, {...}]}]},\n",
       "      {...}]},\n",
       "    {'id': 7,\n",
       "     'name': 'Devin',\n",
       "     'friends': [{'id': 5,\n",
       "       'name': 'Clive',\n",
       "       'friends': [{'id': 4,\n",
       "         'name': 'Thor',\n",
       "         'friends': [{'id': 3,\n",
       "           'name': 'Chi',\n",
       "           'friends': [{'id': 1,\n",
       "             'name': 'Dunn',\n",
       "             'friends': [{'id': 0,\n",
       "               'name': 'Hero',\n",
       "               'friends': [{...},\n",
       "                {'id': 2, 'name': 'Sue', 'friends': [{...}, {...}, {...}]}]},\n",
       "              {'id': 2,\n",
       "               'name': 'Sue',\n",
       "               'friends': [{'id': 0,\n",
       "                 'name': 'Hero',\n",
       "                 'friends': [{...}, {...}]},\n",
       "                {...},\n",
       "                {...}]},\n",
       "              {...}]},\n",
       "            {'id': 2,\n",
       "             'name': 'Sue',\n",
       "             'friends': [{'id': 0,\n",
       "               'name': 'Hero',\n",
       "               'friends': [{'id': 1,\n",
       "                 'name': 'Dunn',\n",
       "                 'friends': [{...}, {...}, {...}]},\n",
       "                {...}]},\n",
       "              {'id': 1,\n",
       "               'name': 'Dunn',\n",
       "               'friends': [{'id': 0,\n",
       "                 'name': 'Hero',\n",
       "                 'friends': [{...}, {...}]},\n",
       "                {...},\n",
       "                {...}]},\n",
       "              {...}]},\n",
       "            {...}]},\n",
       "          {...}]},\n",
       "        {'id': 6, 'name': 'Hicks', 'friends': [{...}, {...}]},\n",
       "        {...}]},\n",
       "      {...}]},\n",
       "    {...}]}]}"
      ]
     },
     "execution_count": 60,
     "metadata": {},
     "output_type": "execute_result"
    }
   ],
   "source": [
    "users[9]"
   ]
  },
  {
   "cell_type": "code",
   "execution_count": 61,
   "id": "0bfda139",
   "metadata": {},
   "outputs": [
    {
     "data": {
      "text/plain": [
       "[{'id': 8,\n",
       "  'name': 'Kate',\n",
       "  'friends': [{'id': 6,\n",
       "    'name': 'Hicks',\n",
       "    'friends': [{'id': 5,\n",
       "      'name': 'Clive',\n",
       "      'friends': [{'id': 4,\n",
       "        'name': 'Thor',\n",
       "        'friends': [{'id': 3,\n",
       "          'name': 'Chi',\n",
       "          'friends': [{'id': 1,\n",
       "            'name': 'Dunn',\n",
       "            'friends': [{'id': 0,\n",
       "              'name': 'Hero',\n",
       "              'friends': [{...},\n",
       "               {'id': 2, 'name': 'Sue', 'friends': [{...}, {...}, {...}]}]},\n",
       "             {'id': 2,\n",
       "              'name': 'Sue',\n",
       "              'friends': [{'id': 0, 'name': 'Hero', 'friends': [{...}, {...}]},\n",
       "               {...},\n",
       "               {...}]},\n",
       "             {...}]},\n",
       "           {'id': 2,\n",
       "            'name': 'Sue',\n",
       "            'friends': [{'id': 0,\n",
       "              'name': 'Hero',\n",
       "              'friends': [{'id': 1,\n",
       "                'name': 'Dunn',\n",
       "                'friends': [{...}, {...}, {...}]},\n",
       "               {...}]},\n",
       "             {'id': 1,\n",
       "              'name': 'Dunn',\n",
       "              'friends': [{'id': 0, 'name': 'Hero', 'friends': [{...}, {...}]},\n",
       "               {...},\n",
       "               {...}]},\n",
       "             {...}]},\n",
       "           {...}]},\n",
       "         {...}]},\n",
       "       {...},\n",
       "       {'id': 7, 'name': 'Devin', 'friends': [{...}, {...}]}]},\n",
       "     {...}]},\n",
       "   {'id': 7,\n",
       "    'name': 'Devin',\n",
       "    'friends': [{'id': 5,\n",
       "      'name': 'Clive',\n",
       "      'friends': [{'id': 4,\n",
       "        'name': 'Thor',\n",
       "        'friends': [{'id': 3,\n",
       "          'name': 'Chi',\n",
       "          'friends': [{'id': 1,\n",
       "            'name': 'Dunn',\n",
       "            'friends': [{'id': 0,\n",
       "              'name': 'Hero',\n",
       "              'friends': [{...},\n",
       "               {'id': 2, 'name': 'Sue', 'friends': [{...}, {...}, {...}]}]},\n",
       "             {'id': 2,\n",
       "              'name': 'Sue',\n",
       "              'friends': [{'id': 0, 'name': 'Hero', 'friends': [{...}, {...}]},\n",
       "               {...},\n",
       "               {...}]},\n",
       "             {...}]},\n",
       "           {'id': 2,\n",
       "            'name': 'Sue',\n",
       "            'friends': [{'id': 0,\n",
       "              'name': 'Hero',\n",
       "              'friends': [{'id': 1,\n",
       "                'name': 'Dunn',\n",
       "                'friends': [{...}, {...}, {...}]},\n",
       "               {...}]},\n",
       "             {'id': 1,\n",
       "              'name': 'Dunn',\n",
       "              'friends': [{'id': 0, 'name': 'Hero', 'friends': [{...}, {...}]},\n",
       "               {...},\n",
       "               {...}]},\n",
       "             {...}]},\n",
       "           {...}]},\n",
       "         {...}]},\n",
       "       {'id': 6, 'name': 'Hicks', 'friends': [{...}, {...}]},\n",
       "       {...}]},\n",
       "     {...}]},\n",
       "   {'id': 9, 'name': 'Klein', 'friends': [...]}]}]"
      ]
     },
     "execution_count": 61,
     "metadata": {},
     "output_type": "execute_result"
    }
   ],
   "source": [
    "user['friends']"
   ]
  },
  {
   "cell_type": "code",
   "execution_count": 62,
   "id": "f51b7a16",
   "metadata": {},
   "outputs": [],
   "source": [
    "def number_of_friends(user):\n",
    "    return len(user['friends'])"
   ]
  },
  {
   "cell_type": "code",
   "execution_count": 63,
   "id": "dc2ba380",
   "metadata": {},
   "outputs": [],
   "source": [
    "total_connections = sum(number_of_friends(user)\n",
    "                        for user in users)"
   ]
  },
  {
   "cell_type": "code",
   "execution_count": 64,
   "id": "9ece7ad2",
   "metadata": {},
   "outputs": [
    {
     "data": {
      "text/plain": [
       "24"
      ]
     },
     "execution_count": 64,
     "metadata": {},
     "output_type": "execute_result"
    }
   ],
   "source": [
    "total_connections"
   ]
  },
  {
   "cell_type": "code",
   "execution_count": 65,
   "id": "59d3419d",
   "metadata": {},
   "outputs": [],
   "source": [
    "from __future__ import division\n",
    "num_users = len(users)\n",
    "avg_connections = total_connections / num_users"
   ]
  },
  {
   "cell_type": "code",
   "execution_count": 66,
   "id": "a03b71f7",
   "metadata": {},
   "outputs": [
    {
     "data": {
      "text/plain": [
       "2.4"
      ]
     },
     "execution_count": 66,
     "metadata": {},
     "output_type": "execute_result"
    }
   ],
   "source": [
    "avg_connections"
   ]
  },
  {
   "cell_type": "code",
   "execution_count": 67,
   "id": "03d76261",
   "metadata": {},
   "outputs": [
    {
     "name": "stdout",
     "output_type": "stream",
     "text": [
      "Alice's friends: ['Bob', 'Charlie']\n",
      "Bob's friends: ['Alice', 'Charlie']\n",
      "Charlie's friends: ['Bob', 'Alice']\n"
     ]
    }
   ],
   "source": [
    "users = [\n",
    "    {\"id\": 0, \"name\": \"Alice\", \"friends\": []},\n",
    "    {\"id\": 1, \"name\": \"Bob\", \"friends\": []},\n",
    "    {\"id\": 2, \"name\": \"Charlie\", \"friends\": []}\n",
    "]\n",
    "\n",
    "friendships = [(0, 1), (1, 2), (0, 2)]\n",
    "\n",
    "for i, j in friendships:\n",
    "    users[i][\"friends\"].append(users[j])\n",
    "    users[j][\"friends\"].append(users[i])\n",
    "\n",
    "# Viewing friendships\n",
    "for user in users:\n",
    "    print(f\"{user['name']}'s friends: {[friend['name'] for friend in user['friends']]}\")\n"
   ]
  },
  {
   "cell_type": "code",
   "execution_count": 68,
   "id": "1b2a110e",
   "metadata": {},
   "outputs": [],
   "source": [
    "def number_of_friends(user):\n",
    "    return len(user['friends'])"
   ]
  },
  {
   "cell_type": "code",
   "execution_count": 69,
   "id": "98e8cc75",
   "metadata": {},
   "outputs": [],
   "source": [
    "total_connections = sum(number_of_friends(user) for user in users)"
   ]
  },
  {
   "cell_type": "code",
   "execution_count": 70,
   "id": "709e7842",
   "metadata": {},
   "outputs": [],
   "source": [
    "num_users = len(users)"
   ]
  },
  {
   "cell_type": "code",
   "execution_count": 71,
   "id": "b3f8a898",
   "metadata": {},
   "outputs": [],
   "source": [
    "from __future__ import division # I do not need this because I am using python 3\n",
    "avg_connections = total_connections / num_users"
   ]
  },
  {
   "cell_type": "code",
   "execution_count": 72,
   "id": "2c8606be",
   "metadata": {},
   "outputs": [
    {
     "data": {
      "text/plain": [
       "2.0"
      ]
     },
     "execution_count": 72,
     "metadata": {},
     "output_type": "execute_result"
    }
   ],
   "source": [
    "avg_connections"
   ]
  },
  {
   "cell_type": "code",
   "execution_count": 73,
   "id": "563c17ff",
   "metadata": {},
   "outputs": [],
   "source": [
    "num_friends_by_id = [(user['id'], number_of_friends(user)) for user in users]"
   ]
  },
  {
   "cell_type": "code",
   "execution_count": 74,
   "id": "acbcce78",
   "metadata": {},
   "outputs": [
    {
     "data": {
      "text/plain": [
       "[(0, 2), (1, 2), (2, 2)]"
      ]
     },
     "execution_count": 74,
     "metadata": {},
     "output_type": "execute_result"
    }
   ],
   "source": [
    "num_friends_by_id"
   ]
  },
  {
   "cell_type": "code",
   "execution_count": 75,
   "id": "eaf0c8fd",
   "metadata": {},
   "outputs": [],
   "source": [
    "# sorted(num_friends_by_id, key=lambda (user_id, num_friends): num_friends, reverse=True) --> did not work, I will find out why!"
   ]
  },
  {
   "cell_type": "code",
   "execution_count": 76,
   "id": "7aeff0ee",
   "metadata": {},
   "outputs": [],
   "source": [
    "def double(x):\n",
    "    return 2 * x"
   ]
  },
  {
   "cell_type": "code",
   "execution_count": 77,
   "id": "ffe3a89b",
   "metadata": {},
   "outputs": [],
   "source": [
    "def apply_one(f):\n",
    "    return f(1)"
   ]
  },
  {
   "cell_type": "code",
   "execution_count": 78,
   "id": "adec8bab",
   "metadata": {},
   "outputs": [],
   "source": [
    "another_double = double"
   ]
  },
  {
   "cell_type": "code",
   "execution_count": 79,
   "id": "d5d9bea6",
   "metadata": {},
   "outputs": [],
   "source": [
    "y = apply_one(another_double)"
   ]
  },
  {
   "cell_type": "code",
   "execution_count": 80,
   "id": "84419a95",
   "metadata": {},
   "outputs": [
    {
     "data": {
      "text/plain": [
       "2"
      ]
     },
     "execution_count": 80,
     "metadata": {},
     "output_type": "execute_result"
    }
   ],
   "source": [
    "y"
   ]
  },
  {
   "cell_type": "code",
   "execution_count": 81,
   "id": "0c1ad33a",
   "metadata": {},
   "outputs": [],
   "source": [
    "def my_message(message='Hello Rajohana!'):\n",
    "    print(message)"
   ]
  },
  {
   "cell_type": "code",
   "execution_count": 82,
   "id": "4cb5191c",
   "metadata": {},
   "outputs": [
    {
     "name": "stdout",
     "output_type": "stream",
     "text": [
      "Hello Rajohana!\n"
     ]
    }
   ],
   "source": [
    "my_message()"
   ]
  },
  {
   "cell_type": "code",
   "execution_count": 83,
   "id": "1965edf8",
   "metadata": {},
   "outputs": [
    {
     "name": "stdout",
     "output_type": "stream",
     "text": [
      "Hello Daniela\n"
     ]
    }
   ],
   "source": [
    "my_message('Hello Daniela')"
   ]
  },
  {
   "cell_type": "code",
   "execution_count": 84,
   "id": "8acf5ab0",
   "metadata": {},
   "outputs": [],
   "source": [
    "tab_string = '\\t'"
   ]
  },
  {
   "cell_type": "code",
   "execution_count": 85,
   "id": "013557c8",
   "metadata": {},
   "outputs": [
    {
     "data": {
      "text/plain": [
       "1"
      ]
     },
     "execution_count": 85,
     "metadata": {},
     "output_type": "execute_result"
    }
   ],
   "source": [
    "len(tab_string)"
   ]
  },
  {
   "cell_type": "code",
   "execution_count": 86,
   "id": "f2183f1e",
   "metadata": {},
   "outputs": [
    {
     "data": {
      "text/plain": [
       "'\\t'"
      ]
     },
     "execution_count": 86,
     "metadata": {},
     "output_type": "execute_result"
    }
   ],
   "source": [
    "tab_string"
   ]
  },
  {
   "cell_type": "code",
   "execution_count": 87,
   "id": "531ade36",
   "metadata": {},
   "outputs": [],
   "source": [
    "not_tab_string = r'\\t'"
   ]
  },
  {
   "cell_type": "code",
   "execution_count": 88,
   "id": "f64323c9",
   "metadata": {},
   "outputs": [
    {
     "data": {
      "text/plain": [
       "2"
      ]
     },
     "execution_count": 88,
     "metadata": {},
     "output_type": "execute_result"
    }
   ],
   "source": [
    "len(not_tab_string)"
   ]
  },
  {
   "cell_type": "code",
   "execution_count": 89,
   "id": "91a47a22",
   "metadata": {},
   "outputs": [
    {
     "name": "stdout",
     "output_type": "stream",
     "text": [
      "cannot divide by zero\n"
     ]
    }
   ],
   "source": [
    "try:\n",
    "    print(0/0)\n",
    "except ZeroDivisionError:\n",
    "    print('cannot divide by zero')"
   ]
  },
  {
   "cell_type": "code",
   "execution_count": 90,
   "id": "8ff54dbf",
   "metadata": {},
   "outputs": [],
   "source": [
    "x = list(range(10))"
   ]
  },
  {
   "cell_type": "code",
   "execution_count": 91,
   "id": "d10478ef",
   "metadata": {},
   "outputs": [
    {
     "data": {
      "text/plain": [
       "[0, 1, 2, 3, 4, 5, 6]"
      ]
     },
     "execution_count": 91,
     "metadata": {},
     "output_type": "execute_result"
    }
   ],
   "source": [
    "x[:-3]"
   ]
  },
  {
   "cell_type": "code",
   "execution_count": 92,
   "id": "9ee92ff2",
   "metadata": {},
   "outputs": [
    {
     "data": {
      "text/plain": [
       "[7, 8, 9]"
      ]
     },
     "execution_count": 92,
     "metadata": {},
     "output_type": "execute_result"
    }
   ],
   "source": [
    "x[-3:]"
   ]
  },
  {
   "cell_type": "code",
   "execution_count": 93,
   "id": "9f7e40fa",
   "metadata": {},
   "outputs": [],
   "source": [
    "x = [1, 2, 3]"
   ]
  },
  {
   "cell_type": "code",
   "execution_count": 94,
   "id": "df446c94",
   "metadata": {},
   "outputs": [],
   "source": [
    "y = x + [4, 5, 6]"
   ]
  },
  {
   "cell_type": "code",
   "execution_count": 95,
   "id": "4945697a",
   "metadata": {},
   "outputs": [
    {
     "data": {
      "text/plain": [
       "[1, 2, 3, 4, 5, 6]"
      ]
     },
     "execution_count": 95,
     "metadata": {},
     "output_type": "execute_result"
    }
   ],
   "source": [
    "y"
   ]
  },
  {
   "cell_type": "code",
   "execution_count": 96,
   "id": "c76d7a93",
   "metadata": {},
   "outputs": [],
   "source": [
    "_, y = [1, 2]"
   ]
  },
  {
   "cell_type": "code",
   "execution_count": 97,
   "id": "c7261cf4",
   "metadata": {},
   "outputs": [
    {
     "data": {
      "text/plain": [
       "[1, 2, 3]"
      ]
     },
     "execution_count": 97,
     "metadata": {},
     "output_type": "execute_result"
    }
   ],
   "source": [
    "x"
   ]
  },
  {
   "cell_type": "code",
   "execution_count": 98,
   "id": "3d2a34a5",
   "metadata": {},
   "outputs": [
    {
     "data": {
      "text/plain": [
       "2"
      ]
     },
     "execution_count": 98,
     "metadata": {},
     "output_type": "execute_result"
    }
   ],
   "source": [
    "y"
   ]
  },
  {
   "cell_type": "code",
   "execution_count": 100,
   "id": "7fc9b548",
   "metadata": {},
   "outputs": [],
   "source": [
    "b = 1, 2"
   ]
  },
  {
   "cell_type": "code",
   "execution_count": 101,
   "id": "8707842b",
   "metadata": {},
   "outputs": [
    {
     "data": {
      "text/plain": [
       "(1, 2)"
      ]
     },
     "execution_count": 101,
     "metadata": {},
     "output_type": "execute_result"
    }
   ],
   "source": [
    "b"
   ]
  },
  {
   "cell_type": "code",
   "execution_count": 102,
   "id": "91a17e1a",
   "metadata": {},
   "outputs": [
    {
     "data": {
      "text/plain": [
       "1"
      ]
     },
     "execution_count": 102,
     "metadata": {},
     "output_type": "execute_result"
    }
   ],
   "source": [
    "b[0]"
   ]
  },
  {
   "cell_type": "code",
   "execution_count": 104,
   "id": "c92a1cdb",
   "metadata": {},
   "outputs": [
    {
     "data": {
      "text/plain": [
       "2"
      ]
     },
     "execution_count": 104,
     "metadata": {},
     "output_type": "execute_result"
    }
   ],
   "source": [
    "b[-1]"
   ]
  },
  {
   "cell_type": "code",
   "execution_count": 105,
   "id": "7d20b56b",
   "metadata": {},
   "outputs": [],
   "source": [
    "empty_dict = {}"
   ]
  },
  {
   "cell_type": "code",
   "execution_count": 106,
   "id": "8f75fc26",
   "metadata": {},
   "outputs": [],
   "source": [
    "grades = {'joel': 100, 'tim': 80}"
   ]
  },
  {
   "cell_type": "code",
   "execution_count": 108,
   "id": "13ab2373",
   "metadata": {},
   "outputs": [],
   "source": [
    "joel_grades = grades['joel']"
   ]
  },
  {
   "cell_type": "code",
   "execution_count": 110,
   "id": "afe202e2",
   "metadata": {},
   "outputs": [
    {
     "data": {
      "text/plain": [
       "100"
      ]
     },
     "execution_count": 110,
     "metadata": {},
     "output_type": "execute_result"
    }
   ],
   "source": [
    "joel_grades"
   ]
  },
  {
   "cell_type": "code",
   "execution_count": 111,
   "id": "9671ca8a",
   "metadata": {},
   "outputs": [
    {
     "data": {
      "text/plain": [
       "int"
      ]
     },
     "execution_count": 111,
     "metadata": {},
     "output_type": "execute_result"
    }
   ],
   "source": [
    "type(joel_grades)"
   ]
  },
  {
   "cell_type": "code",
   "execution_count": 112,
   "id": "dbf9b371",
   "metadata": {},
   "outputs": [
    {
     "ename": "KeyError",
     "evalue": "'Kate'",
     "output_type": "error",
     "traceback": [
      "\u001b[31m---------------------------------------------------------------------------\u001b[39m",
      "\u001b[31mKeyError\u001b[39m                                  Traceback (most recent call last)",
      "\u001b[36mCell\u001b[39m\u001b[36m \u001b[39m\u001b[32mIn[112]\u001b[39m\u001b[32m, line 1\u001b[39m\n\u001b[32m----> \u001b[39m\u001b[32m1\u001b[39m \u001b[43mgrades\u001b[49m\u001b[43m[\u001b[49m\u001b[33;43m'\u001b[39;49m\u001b[33;43mKate\u001b[39;49m\u001b[33;43m'\u001b[39;49m\u001b[43m]\u001b[49m\n",
      "\u001b[31mKeyError\u001b[39m: 'Kate'"
     ]
    }
   ],
   "source": [
    "grades['Kate']"
   ]
  },
  {
   "cell_type": "code",
   "execution_count": 113,
   "id": "93dc3cd9",
   "metadata": {},
   "outputs": [
    {
     "data": {
      "text/plain": [
       "100"
      ]
     },
     "execution_count": 113,
     "metadata": {},
     "output_type": "execute_result"
    }
   ],
   "source": [
    "grades.get('joel')"
   ]
  },
  {
   "cell_type": "code",
   "execution_count": 116,
   "id": "c7a26400",
   "metadata": {},
   "outputs": [
    {
     "name": "stdout",
     "output_type": "stream",
     "text": [
      "0\n"
     ]
    }
   ],
   "source": [
    "print(grades.get('Kate', 0))"
   ]
  },
  {
   "cell_type": "code",
   "execution_count": 117,
   "id": "00cbbd34",
   "metadata": {},
   "outputs": [],
   "source": [
    "grades['joel'] = 99.99"
   ]
  },
  {
   "cell_type": "code",
   "execution_count": 118,
   "id": "e93ba199",
   "metadata": {},
   "outputs": [],
   "source": [
    "joel_grades = grades['joel']"
   ]
  },
  {
   "cell_type": "code",
   "execution_count": 119,
   "id": "529cb1cd",
   "metadata": {},
   "outputs": [
    {
     "data": {
      "text/plain": [
       "float"
      ]
     },
     "execution_count": 119,
     "metadata": {},
     "output_type": "execute_result"
    }
   ],
   "source": [
    "type(joel_grades)"
   ]
  },
  {
   "cell_type": "code",
   "execution_count": 120,
   "id": "e77f77b2",
   "metadata": {},
   "outputs": [],
   "source": [
    "tweet = {\n",
    "    'user': 'barrackobama',\n",
    "    'text': 'I inspire hope!',\n",
    "    'retweets_count': 1000,\n",
    "    'hashtags': [\"#unitedstates\", \"#america\", \"#44th\", \"#44\"]\n",
    "}"
   ]
  },
  {
   "cell_type": "code",
   "execution_count": 125,
   "id": "bdccc3b1",
   "metadata": {},
   "outputs": [],
   "source": [
    "tweet_keys = tweet.keys()"
   ]
  },
  {
   "cell_type": "code",
   "execution_count": 128,
   "id": "26bca1c3",
   "metadata": {},
   "outputs": [],
   "source": [
    "tweet_values = tweet.values()"
   ]
  },
  {
   "cell_type": "code",
   "execution_count": 131,
   "id": "1db4f8b0",
   "metadata": {},
   "outputs": [
    {
     "data": {
      "text/plain": [
       "dict_values(['barrackobama', 'I inspire hope!', 1000, ['#unitedstates', '#america', '#44th', '#44']])"
      ]
     },
     "execution_count": 131,
     "metadata": {},
     "output_type": "execute_result"
    }
   ],
   "source": [
    "tweet_values"
   ]
  },
  {
   "cell_type": "code",
   "execution_count": 132,
   "id": "368a5103",
   "metadata": {},
   "outputs": [],
   "source": [
    "tweet_items = tweet.items()"
   ]
  },
  {
   "cell_type": "code",
   "execution_count": 133,
   "id": "bb8bb174",
   "metadata": {},
   "outputs": [
    {
     "data": {
      "text/plain": [
       "dict_items([('user', 'barrackobama'), ('text', 'I inspire hope!'), ('retweets_count', 1000), ('hashtags', ['#unitedstates', '#america', '#44th', '#44'])])"
      ]
     },
     "execution_count": 133,
     "metadata": {},
     "output_type": "execute_result"
    }
   ],
   "source": [
    "tweet_items"
   ]
  },
  {
   "cell_type": "code",
   "execution_count": 136,
   "id": "d8b12c04",
   "metadata": {},
   "outputs": [
    {
     "data": {
      "text/plain": [
       "True"
      ]
     },
     "execution_count": 136,
     "metadata": {},
     "output_type": "execute_result"
    }
   ],
   "source": [
    "any(['', True, 3])"
   ]
  },
  {
   "cell_type": "code",
   "execution_count": 137,
   "id": "2ded1c30",
   "metadata": {},
   "outputs": [
    {
     "name": "stdout",
     "output_type": "stream",
     "text": [
      "Help on built-in function any in module builtins:\n",
      "\n",
      "any(iterable, /)\n",
      "    Return True if bool(x) is True for any x in the iterable.\n",
      "\n",
      "    If the iterable is empty, return False.\n",
      "\n"
     ]
    }
   ],
   "source": [
    "help(any)"
   ]
  },
  {
   "cell_type": "code",
   "execution_count": 139,
   "id": "172efbae",
   "metadata": {},
   "outputs": [
    {
     "name": "stdout",
     "output_type": "stream",
     "text": [
      "Help on built-in function all in module builtins:\n",
      "\n",
      "all(iterable, /)\n",
      "    Return True if bool(x) is True for all values x in the iterable.\n",
      "\n",
      "    If the iterable is empty, return True.\n",
      "\n"
     ]
    }
   ],
   "source": [
    "help(all)"
   ]
  },
  {
   "cell_type": "code",
   "execution_count": 140,
   "id": "227a5071",
   "metadata": {},
   "outputs": [],
   "source": [
    "x = [4, 3, 2, 6]"
   ]
  },
  {
   "cell_type": "code",
   "execution_count": 149,
   "id": "8c74b1ae",
   "metadata": {},
   "outputs": [],
   "source": [
    "x.sort(key=abs, reverse=True)"
   ]
  },
  {
   "cell_type": "code",
   "execution_count": 150,
   "id": "c8e7f284",
   "metadata": {},
   "outputs": [
    {
     "data": {
      "text/plain": [
       "[6, 4, 3, 2]"
      ]
     },
     "execution_count": 150,
     "metadata": {},
     "output_type": "execute_result"
    }
   ],
   "source": [
    "x"
   ]
  },
  {
   "cell_type": "code",
   "execution_count": 152,
   "id": "81e81ac5",
   "metadata": {},
   "outputs": [],
   "source": [
    "even_numbers = [x for x in range(5) if x % 2 == 0]"
   ]
  },
  {
   "cell_type": "code",
   "execution_count": 153,
   "id": "ea55b706",
   "metadata": {},
   "outputs": [
    {
     "data": {
      "text/plain": [
       "[0, 2, 4]"
      ]
     },
     "execution_count": 153,
     "metadata": {},
     "output_type": "execute_result"
    }
   ],
   "source": [
    "even_numbers"
   ]
  },
  {
   "cell_type": "code",
   "execution_count": 154,
   "id": "e0ff8564",
   "metadata": {},
   "outputs": [],
   "source": [
    "zeros = [0 for _ in even_numbers]"
   ]
  },
  {
   "cell_type": "code",
   "execution_count": 155,
   "id": "574a912b",
   "metadata": {},
   "outputs": [
    {
     "data": {
      "text/plain": [
       "[0, 0, 0]"
      ]
     },
     "execution_count": 155,
     "metadata": {},
     "output_type": "execute_result"
    }
   ],
   "source": [
    "zeros"
   ]
  },
  {
   "cell_type": "code",
   "execution_count": 156,
   "id": "76aa01ff",
   "metadata": {},
   "outputs": [],
   "source": [
    "import random as r"
   ]
  },
  {
   "cell_type": "code",
   "execution_count": 168,
   "id": "3e6e7c27",
   "metadata": {},
   "outputs": [
    {
     "name": "stdout",
     "output_type": "stream",
     "text": [
      "4\n",
      "16\n",
      "16\n",
      "21\n",
      "4\n",
      "7\n",
      "7\n",
      "6\n",
      "17\n",
      "21\n"
     ]
    }
   ],
   "source": [
    "for _ in range(10):\n",
    "    print(r.randrange(2, 22))"
   ]
  },
  {
   "cell_type": "code",
   "execution_count": 169,
   "id": "8bc01d23",
   "metadata": {},
   "outputs": [],
   "source": [
    "arr = list(range(9))"
   ]
  },
  {
   "cell_type": "code",
   "execution_count": 174,
   "id": "5374edf6",
   "metadata": {},
   "outputs": [
    {
     "data": {
      "text/plain": [
       "[0, 1, 2, 3, 4, 5, 6, 7, 8]"
      ]
     },
     "execution_count": 174,
     "metadata": {},
     "output_type": "execute_result"
    }
   ],
   "source": [
    "arr"
   ]
  },
  {
   "cell_type": "code",
   "execution_count": 175,
   "id": "729626be",
   "metadata": {},
   "outputs": [
    {
     "name": "stdout",
     "output_type": "stream",
     "text": [
      "8\n",
      "0\n",
      "1\n",
      "1\n",
      "8\n"
     ]
    }
   ],
   "source": [
    "for _ in range(5):\n",
    "    print(r.choice(arr))"
   ]
  },
  {
   "cell_type": "code",
   "execution_count": 188,
   "id": "5a03e952",
   "metadata": {},
   "outputs": [],
   "source": [
    "lotto_nums = list(range(1, 36))"
   ]
  },
  {
   "cell_type": "code",
   "execution_count": 190,
   "id": "1a1020ab",
   "metadata": {},
   "outputs": [
    {
     "name": "stdout",
     "output_type": "stream",
     "text": [
      "[19, 25, 6, 12, 7]\n",
      "[2, 30, 13, 33, 3]\n",
      "[19, 12, 9, 30, 17]\n",
      "[25, 28, 34, 35, 4]\n",
      "[24, 6, 32, 2, 27]\n",
      "[9, 19, 15, 28, 18]\n"
     ]
    }
   ],
   "source": [
    "for _ in range(6):\n",
    "    print(r.sample(lotto_nums, 5))"
   ]
  },
  {
   "cell_type": "code",
   "execution_count": 191,
   "id": "bdb57c27",
   "metadata": {},
   "outputs": [
    {
     "name": "stdout",
     "output_type": "stream",
     "text": [
      "[23, 21, 35, 3, 33]\n",
      "[29, 7, 4, 10, 17]\n",
      "[2, 6, 1, 27, 16]\n",
      "[31, 28, 18, 14, 27]\n",
      "[2, 24, 20, 5, 17]\n",
      "[32, 9, 28, 2, 29]\n"
     ]
    }
   ],
   "source": [
    "for _ in range(6):\n",
    "    print(r.sample(lotto_nums, 5))"
   ]
  },
  {
   "cell_type": "code",
   "execution_count": 192,
   "id": "4452b679",
   "metadata": {},
   "outputs": [
    {
     "name": "stdout",
     "output_type": "stream",
     "text": [
      "[11, 4, 32, 33, 22]\n",
      "[17, 32, 15, 24, 18]\n",
      "[25, 5, 33, 29, 35]\n",
      "[12, 10, 29, 5, 7]\n",
      "[24, 12, 35, 17, 31]\n",
      "[1, 35, 3, 22, 23]\n"
     ]
    }
   ],
   "source": [
    "for _ in range(6):\n",
    "    print(r.sample(lotto_nums, 5))"
   ]
  },
  {
   "cell_type": "code",
   "execution_count": 178,
   "id": "b225c341",
   "metadata": {},
   "outputs": [],
   "source": [
    "six_with_replacemet = [r.choice(lotto_nums) for _ in range(6)]"
   ]
  },
  {
   "cell_type": "code",
   "execution_count": 179,
   "id": "1960e48c",
   "metadata": {},
   "outputs": [
    {
     "data": {
      "text/plain": [
       "[48, 18, 16, 57, 11, 23]"
      ]
     },
     "execution_count": 179,
     "metadata": {},
     "output_type": "execute_result"
    }
   ],
   "source": [
    "six_with_replacemet"
   ]
  },
  {
   "cell_type": "code",
   "execution_count": 200,
   "id": "827b43f9",
   "metadata": {},
   "outputs": [],
   "source": [
    "powerball_num = list(range(1, 51))"
   ]
  },
  {
   "cell_type": "code",
   "execution_count": 201,
   "id": "22b6ba84",
   "metadata": {},
   "outputs": [
    {
     "name": "stdout",
     "output_type": "stream",
     "text": [
      "[35, 9, 47, 22, 5]\n",
      "[29, 26, 28, 22, 14]\n",
      "[42, 23, 49, 45, 20]\n",
      "[40, 9, 3, 11, 8]\n",
      "[40, 35, 14, 39, 44]\n",
      "[2, 11, 43, 14, 34]\n"
     ]
    }
   ],
   "source": [
    "for _ in range(6):\n",
    "    print(r.sample(powerball_num, 5))"
   ]
  },
  {
   "cell_type": "code",
   "execution_count": 202,
   "id": "0db8381c",
   "metadata": {},
   "outputs": [
    {
     "name": "stdout",
     "output_type": "stream",
     "text": [
      "[17]\n",
      "[10]\n",
      "[6]\n",
      "[10]\n",
      "[6]\n",
      "[11]\n"
     ]
    }
   ],
   "source": [
    "bonus = list(range(1, 21))\n",
    "for _ in range(6):\n",
    "    print(r.sample(bonus, 1))"
   ]
  }
 ],
 "metadata": {
  "kernelspec": {
   "display_name": "Python 3",
   "language": "python",
   "name": "python3"
  },
  "language_info": {
   "codemirror_mode": {
    "name": "ipython",
    "version": 3
   },
   "file_extension": ".py",
   "mimetype": "text/x-python",
   "name": "python",
   "nbconvert_exporter": "python",
   "pygments_lexer": "ipython3",
   "version": "3.13.3"
  }
 },
 "nbformat": 4,
 "nbformat_minor": 5
}
