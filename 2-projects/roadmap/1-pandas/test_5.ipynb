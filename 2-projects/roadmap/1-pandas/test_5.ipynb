{
 "cells": [
  {
   "cell_type": "code",
   "execution_count": 1,
   "metadata": {},
   "outputs": [],
   "source": [
    "new_weather_data = {\n",
    "    'day': ['1/1/2017', '1/2/2017', '1/3/2017', '1/4/2017', '1/1/2017', '1/2/2017', '1/3/2017', '1/4/2017', '1/1/2017', '1/2/2017', '1/3/2017', '1/4/2017'],\n",
    "    'city': ['new york', 'new york', 'new york', 'new york', 'mumbai', 'mumbai', 'mumbai', 'mumbai', 'paris', 'paris', 'paris', 'paris'],\n",
    "    'temperature': [32, 36, 28, 33, 90, 85, 87, 92, 45, 50, 54, 42],\n",
    "    'windspeed': [6, 7, 12, 7, 5, 12, 15, 5, 20, 13, 8, 10],\n",
    "    'event': ['Rain', 'Sunny', 'Snow', 'Sunny', 'Sunny', 'Fog', 'Fog', 'Rain', 'Sunny', 'Cloudy', 'Cloudy', 'Cloudy']\n",
    "}"
   ]
  },
  {
   "cell_type": "code",
   "execution_count": 2,
   "metadata": {},
   "outputs": [],
   "source": [
    "import pandas as pd"
   ]
  },
  {
   "cell_type": "code",
   "execution_count": 3,
   "metadata": {},
   "outputs": [],
   "source": [
    "pd.DataFrame(new_weather_data).to_csv('new_weather_data.csv', index=False)"
   ]
  },
  {
   "cell_type": "code",
   "execution_count": null,
   "metadata": {},
   "outputs": [],
   "source": []
  }
 ],
 "metadata": {
  "kernelspec": {
   "display_name": "Python 3",
   "language": "python",
   "name": "python3"
  },
  "language_info": {
   "codemirror_mode": {
    "name": "ipython",
    "version": 3
   },
   "file_extension": ".py",
   "mimetype": "text/x-python",
   "name": "python",
   "nbconvert_exporter": "python",
   "pygments_lexer": "ipython3",
   "version": "3.12.8"
  }
 },
 "nbformat": 4,
 "nbformat_minor": 2
}
