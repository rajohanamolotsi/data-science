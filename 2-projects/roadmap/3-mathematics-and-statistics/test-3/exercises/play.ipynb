{
 "cells": [
  {
   "cell_type": "code",
   "execution_count": 23,
   "id": "941c5431",
   "metadata": {},
   "outputs": [],
   "source": [
    "import pandas as pd\n",
    "import matplotlib.pyplot as plt\n",
    "import seaborn as sns"
   ]
  },
  {
   "cell_type": "code",
   "execution_count": 24,
   "id": "a20436f7",
   "metadata": {},
   "outputs": [],
   "source": [
    "df = pd.read_csv('bhp.csv')"
   ]
  },
  {
   "cell_type": "code",
   "execution_count": 25,
   "id": "8f0dbdaf",
   "metadata": {},
   "outputs": [
    {
     "data": {
      "text/html": [
       "<div>\n",
       "<style scoped>\n",
       "    .dataframe tbody tr th:only-of-type {\n",
       "        vertical-align: middle;\n",
       "    }\n",
       "\n",
       "    .dataframe tbody tr th {\n",
       "        vertical-align: top;\n",
       "    }\n",
       "\n",
       "    .dataframe thead th {\n",
       "        text-align: right;\n",
       "    }\n",
       "</style>\n",
       "<table border=\"1\" class=\"dataframe\">\n",
       "  <thead>\n",
       "    <tr style=\"text-align: right;\">\n",
       "      <th></th>\n",
       "      <th>location</th>\n",
       "      <th>size</th>\n",
       "      <th>total_sqft</th>\n",
       "      <th>bath</th>\n",
       "      <th>price</th>\n",
       "      <th>bhk</th>\n",
       "      <th>price_per_sqft</th>\n",
       "    </tr>\n",
       "  </thead>\n",
       "  <tbody>\n",
       "    <tr>\n",
       "      <th>0</th>\n",
       "      <td>Electronic City Phase II</td>\n",
       "      <td>2 BHK</td>\n",
       "      <td>1056.0</td>\n",
       "      <td>2.0</td>\n",
       "      <td>39.07</td>\n",
       "      <td>2</td>\n",
       "      <td>3699</td>\n",
       "    </tr>\n",
       "    <tr>\n",
       "      <th>1</th>\n",
       "      <td>Chikka Tirupathi</td>\n",
       "      <td>4 Bedroom</td>\n",
       "      <td>2600.0</td>\n",
       "      <td>5.0</td>\n",
       "      <td>120.00</td>\n",
       "      <td>4</td>\n",
       "      <td>4615</td>\n",
       "    </tr>\n",
       "    <tr>\n",
       "      <th>2</th>\n",
       "      <td>Uttarahalli</td>\n",
       "      <td>3 BHK</td>\n",
       "      <td>1440.0</td>\n",
       "      <td>2.0</td>\n",
       "      <td>62.00</td>\n",
       "      <td>3</td>\n",
       "      <td>4305</td>\n",
       "    </tr>\n",
       "    <tr>\n",
       "      <th>3</th>\n",
       "      <td>Lingadheeranahalli</td>\n",
       "      <td>3 BHK</td>\n",
       "      <td>1521.0</td>\n",
       "      <td>3.0</td>\n",
       "      <td>95.00</td>\n",
       "      <td>3</td>\n",
       "      <td>6245</td>\n",
       "    </tr>\n",
       "    <tr>\n",
       "      <th>4</th>\n",
       "      <td>Kothanur</td>\n",
       "      <td>2 BHK</td>\n",
       "      <td>1200.0</td>\n",
       "      <td>2.0</td>\n",
       "      <td>51.00</td>\n",
       "      <td>2</td>\n",
       "      <td>4250</td>\n",
       "    </tr>\n",
       "    <tr>\n",
       "      <th>...</th>\n",
       "      <td>...</td>\n",
       "      <td>...</td>\n",
       "      <td>...</td>\n",
       "      <td>...</td>\n",
       "      <td>...</td>\n",
       "      <td>...</td>\n",
       "      <td>...</td>\n",
       "    </tr>\n",
       "    <tr>\n",
       "      <th>13195</th>\n",
       "      <td>Whitefield</td>\n",
       "      <td>5 Bedroom</td>\n",
       "      <td>3453.0</td>\n",
       "      <td>4.0</td>\n",
       "      <td>231.00</td>\n",
       "      <td>5</td>\n",
       "      <td>6689</td>\n",
       "    </tr>\n",
       "    <tr>\n",
       "      <th>13196</th>\n",
       "      <td>other</td>\n",
       "      <td>4 BHK</td>\n",
       "      <td>3600.0</td>\n",
       "      <td>5.0</td>\n",
       "      <td>400.00</td>\n",
       "      <td>4</td>\n",
       "      <td>11111</td>\n",
       "    </tr>\n",
       "    <tr>\n",
       "      <th>13197</th>\n",
       "      <td>Raja Rajeshwari Nagar</td>\n",
       "      <td>2 BHK</td>\n",
       "      <td>1141.0</td>\n",
       "      <td>2.0</td>\n",
       "      <td>60.00</td>\n",
       "      <td>2</td>\n",
       "      <td>5258</td>\n",
       "    </tr>\n",
       "    <tr>\n",
       "      <th>13198</th>\n",
       "      <td>Padmanabhanagar</td>\n",
       "      <td>4 BHK</td>\n",
       "      <td>4689.0</td>\n",
       "      <td>4.0</td>\n",
       "      <td>488.00</td>\n",
       "      <td>4</td>\n",
       "      <td>10407</td>\n",
       "    </tr>\n",
       "    <tr>\n",
       "      <th>13199</th>\n",
       "      <td>Doddathoguru</td>\n",
       "      <td>1 BHK</td>\n",
       "      <td>550.0</td>\n",
       "      <td>1.0</td>\n",
       "      <td>17.00</td>\n",
       "      <td>1</td>\n",
       "      <td>3090</td>\n",
       "    </tr>\n",
       "  </tbody>\n",
       "</table>\n",
       "<p>13200 rows × 7 columns</p>\n",
       "</div>"
      ],
      "text/plain": [
       "                       location       size  total_sqft  bath   price  bhk  \\\n",
       "0      Electronic City Phase II      2 BHK      1056.0   2.0   39.07    2   \n",
       "1              Chikka Tirupathi  4 Bedroom      2600.0   5.0  120.00    4   \n",
       "2                   Uttarahalli      3 BHK      1440.0   2.0   62.00    3   \n",
       "3            Lingadheeranahalli      3 BHK      1521.0   3.0   95.00    3   \n",
       "4                      Kothanur      2 BHK      1200.0   2.0   51.00    2   \n",
       "...                         ...        ...         ...   ...     ...  ...   \n",
       "13195                Whitefield  5 Bedroom      3453.0   4.0  231.00    5   \n",
       "13196                     other      4 BHK      3600.0   5.0  400.00    4   \n",
       "13197     Raja Rajeshwari Nagar      2 BHK      1141.0   2.0   60.00    2   \n",
       "13198           Padmanabhanagar      4 BHK      4689.0   4.0  488.00    4   \n",
       "13199              Doddathoguru      1 BHK       550.0   1.0   17.00    1   \n",
       "\n",
       "       price_per_sqft  \n",
       "0                3699  \n",
       "1                4615  \n",
       "2                4305  \n",
       "3                6245  \n",
       "4                4250  \n",
       "...               ...  \n",
       "13195            6689  \n",
       "13196           11111  \n",
       "13197            5258  \n",
       "13198           10407  \n",
       "13199            3090  \n",
       "\n",
       "[13200 rows x 7 columns]"
      ]
     },
     "execution_count": 25,
     "metadata": {},
     "output_type": "execute_result"
    }
   ],
   "source": [
    "df"
   ]
  },
  {
   "cell_type": "code",
   "execution_count": 26,
   "id": "d47a0902",
   "metadata": {},
   "outputs": [
    {
     "data": {
      "text/plain": [
       "count    1.320000e+04\n",
       "mean     7.920337e+03\n",
       "std      1.067272e+05\n",
       "min      2.670000e+02\n",
       "25%      4.267000e+03\n",
       "50%      5.438000e+03\n",
       "75%      7.317000e+03\n",
       "max      1.200000e+07\n",
       "Name: price_per_sqft, dtype: float64"
      ]
     },
     "execution_count": 26,
     "metadata": {},
     "output_type": "execute_result"
    }
   ],
   "source": [
    "df['price_per_sqft'].describe()"
   ]
  },
  {
   "cell_type": "code",
   "execution_count": 27,
   "id": "682ef601",
   "metadata": {},
   "outputs": [
    {
     "data": {
      "image/png": "[encoded data removed]",
      "text/plain": [
       "<Figure size 640x480 with 1 Axes>"
      ]
     },
     "metadata": {},
     "output_type": "display_data"
    }
   ],
   "source": [
    "sns.histplot(df['price_per_sqft'].sample(30))\n",
    "plt.tight_layout()"
   ]
  },
  {
   "cell_type": "code",
   "execution_count": 28,
   "id": "092fc7ad",
   "metadata": {},
   "outputs": [],
   "source": [
    "min_threshold, max_threshold = df['price_per_sqft'].quantile([.001, 0.999])"
   ]
  },
  {
   "cell_type": "code",
   "execution_count": 29,
   "id": "e29f7133",
   "metadata": {},
   "outputs": [
    {
     "data": {
      "text/plain": [
       "(1366.184, 50959.36200000098)"
      ]
     },
     "execution_count": 29,
     "metadata": {},
     "output_type": "execute_result"
    }
   ],
   "source": [
    "min_threshold, max_threshold"
   ]
  },
  {
   "cell_type": "code",
   "execution_count": 30,
   "id": "3d4d10f2",
   "metadata": {},
   "outputs": [],
   "source": [
    "df_0 = df[(df['price_per_sqft'] > min_threshold) & (df['price_per_sqft'] <= max_threshold)]"
   ]
  },
  {
   "cell_type": "code",
   "execution_count": 31,
   "id": "c787a73a",
   "metadata": {},
   "outputs": [
    {
     "data": {
      "text/plain": [
       "((13200, 7), (13172, 7))"
      ]
     },
     "execution_count": 31,
     "metadata": {},
     "output_type": "execute_result"
    }
   ],
   "source": [
    "df.shape, df_0.shape"
   ]
  },
  {
   "cell_type": "code",
   "execution_count": 32,
   "id": "be1d9a61",
   "metadata": {},
   "outputs": [
    {
     "data": {
      "text/plain": [
       "28"
      ]
     },
     "execution_count": 32,
     "metadata": {},
     "output_type": "execute_result"
    }
   ],
   "source": [
    "df.shape[0] - df_0.shape[0]"
   ]
  },
  {
   "cell_type": "code",
   "execution_count": 33,
   "id": "2a3a320d",
   "metadata": {},
   "outputs": [
    {
     "data": {
      "text/plain": [
       "(-9900.429065502582, 23227.73653589432)"
      ]
     },
     "execution_count": 33,
     "metadata": {},
     "output_type": "execute_result"
    }
   ],
   "source": [
    "std_4_min = df_0['price_per_sqft'].mean() - 4 * df_0['price_per_sqft'].std()\n",
    "std_4_max = df_0['price_per_sqft'].mean() + 4 * df_0['price_per_sqft'].std()\n",
    "std_4_max = float(std_4_max)\n",
    "std_4_min = float(std_4_min)\n",
    "std_4_min, std_4_max"
   ]
  },
  {
   "cell_type": "code",
   "execution_count": 34,
   "id": "ace052dc",
   "metadata": {},
   "outputs": [],
   "source": [
    "df_1 = df_0[(df_0['price_per_sqft'] > std_4_min) & (df_0['price_per_sqft'] < std_4_max)]"
   ]
  },
  {
   "cell_type": "code",
   "execution_count": 35,
   "id": "1489fc99",
   "metadata": {},
   "outputs": [
    {
     "data": {
      "text/plain": [
       "((13200, 7), (13172, 7), (13047, 7))"
      ]
     },
     "execution_count": 35,
     "metadata": {},
     "output_type": "execute_result"
    }
   ],
   "source": [
    "df.shape, df_0.shape, df_1.shape"
   ]
  },
  {
   "cell_type": "code",
   "execution_count": 36,
   "id": "bf1f99b7",
   "metadata": {},
   "outputs": [
    {
     "data": {
      "text/plain": [
       "125"
      ]
     },
     "execution_count": 36,
     "metadata": {},
     "output_type": "execute_result"
    }
   ],
   "source": [
    "df_0.shape[0] - df_1.shape[0]"
   ]
  },
  {
   "cell_type": "code",
   "execution_count": 37,
   "id": "a8874c19",
   "metadata": {},
   "outputs": [
    {
     "data": {
      "text/plain": [
       "<Axes: xlabel='price_per_sqft', ylabel='Count'>"
      ]
     },
     "execution_count": 37,
     "metadata": {},
     "output_type": "execute_result"
    },
    {
     "data": {
      "image/png": "[encoded data removed]",
      "text/plain": [
       "<Figure size 640x480 with 1 Axes>"
      ]
     },
     "metadata": {},
     "output_type": "display_data"
    }
   ],
   "source": [
    "sns.histplot(df_1['price_per_sqft'], kde=True)"
   ]
  },
  {
   "cell_type": "code",
   "execution_count": 38,
   "id": "0dedd72c",
   "metadata": {},
   "outputs": [
    {
     "name": "stderr",
     "output_type": "stream",
     "text": [
      "C:\\Users\\rajoh\\AppData\\Local\\Temp\\ipykernel_13016\\2055018264.py:1: SettingWithCopyWarning: \n",
      "A value is trying to be set on a copy of a slice from a DataFrame.\n",
      "Try using .loc[row_indexer,col_indexer] = value instead\n",
      "\n",
      "See the caveats in the documentation: https://pandas.pydata.org/pandas-docs/stable/user_guide/indexing.html#returning-a-view-versus-a-copy\n",
      "  df_0['Z-Score'] = (df_0['price_per_sqft'] - df_0['price_per_sqft'].mean())/df_0['price_per_sqft'].std()\n"
     ]
    }
   ],
   "source": [
    "df_0['Z-Score'] = (df_0['price_per_sqft'] - df_0['price_per_sqft'].mean())/df_0['price_per_sqft'].std()"
   ]
  },
  {
   "cell_type": "code",
   "execution_count": 39,
   "id": "9dedcf1a",
   "metadata": {},
   "outputs": [
    {
     "data": {
      "text/html": [
       "<div>\n",
       "<style scoped>\n",
       "    .dataframe tbody tr th:only-of-type {\n",
       "        vertical-align: middle;\n",
       "    }\n",
       "\n",
       "    .dataframe tbody tr th {\n",
       "        vertical-align: top;\n",
       "    }\n",
       "\n",
       "    .dataframe thead th {\n",
       "        text-align: right;\n",
       "    }\n",
       "</style>\n",
       "<table border=\"1\" class=\"dataframe\">\n",
       "  <thead>\n",
       "    <tr style=\"text-align: right;\">\n",
       "      <th></th>\n",
       "      <th>location</th>\n",
       "      <th>size</th>\n",
       "      <th>total_sqft</th>\n",
       "      <th>bath</th>\n",
       "      <th>price</th>\n",
       "      <th>bhk</th>\n",
       "      <th>price_per_sqft</th>\n",
       "      <th>Z-Score</th>\n",
       "    </tr>\n",
       "  </thead>\n",
       "  <tbody>\n",
       "    <tr>\n",
       "      <th>0</th>\n",
       "      <td>Electronic City Phase II</td>\n",
       "      <td>2 BHK</td>\n",
       "      <td>1056.0</td>\n",
       "      <td>2.0</td>\n",
       "      <td>39.07</td>\n",
       "      <td>2</td>\n",
       "      <td>3699</td>\n",
       "      <td>-0.715923</td>\n",
       "    </tr>\n",
       "    <tr>\n",
       "      <th>1</th>\n",
       "      <td>Chikka Tirupathi</td>\n",
       "      <td>4 Bedroom</td>\n",
       "      <td>2600.0</td>\n",
       "      <td>5.0</td>\n",
       "      <td>120.00</td>\n",
       "      <td>4</td>\n",
       "      <td>4615</td>\n",
       "      <td>-0.494722</td>\n",
       "    </tr>\n",
       "    <tr>\n",
       "      <th>2</th>\n",
       "      <td>Uttarahalli</td>\n",
       "      <td>3 BHK</td>\n",
       "      <td>1440.0</td>\n",
       "      <td>2.0</td>\n",
       "      <td>62.00</td>\n",
       "      <td>3</td>\n",
       "      <td>4305</td>\n",
       "      <td>-0.569583</td>\n",
       "    </tr>\n",
       "    <tr>\n",
       "      <th>3</th>\n",
       "      <td>Lingadheeranahalli</td>\n",
       "      <td>3 BHK</td>\n",
       "      <td>1521.0</td>\n",
       "      <td>3.0</td>\n",
       "      <td>95.00</td>\n",
       "      <td>3</td>\n",
       "      <td>6245</td>\n",
       "      <td>-0.101099</td>\n",
       "    </tr>\n",
       "    <tr>\n",
       "      <th>4</th>\n",
       "      <td>Kothanur</td>\n",
       "      <td>2 BHK</td>\n",
       "      <td>1200.0</td>\n",
       "      <td>2.0</td>\n",
       "      <td>51.00</td>\n",
       "      <td>2</td>\n",
       "      <td>4250</td>\n",
       "      <td>-0.582864</td>\n",
       "    </tr>\n",
       "    <tr>\n",
       "      <th>...</th>\n",
       "      <td>...</td>\n",
       "      <td>...</td>\n",
       "      <td>...</td>\n",
       "      <td>...</td>\n",
       "      <td>...</td>\n",
       "      <td>...</td>\n",
       "      <td>...</td>\n",
       "      <td>...</td>\n",
       "    </tr>\n",
       "    <tr>\n",
       "      <th>13195</th>\n",
       "      <td>Whitefield</td>\n",
       "      <td>5 Bedroom</td>\n",
       "      <td>3453.0</td>\n",
       "      <td>4.0</td>\n",
       "      <td>231.00</td>\n",
       "      <td>5</td>\n",
       "      <td>6689</td>\n",
       "      <td>0.006121</td>\n",
       "    </tr>\n",
       "    <tr>\n",
       "      <th>13196</th>\n",
       "      <td>other</td>\n",
       "      <td>4 BHK</td>\n",
       "      <td>3600.0</td>\n",
       "      <td>5.0</td>\n",
       "      <td>400.00</td>\n",
       "      <td>4</td>\n",
       "      <td>11111</td>\n",
       "      <td>1.073973</td>\n",
       "    </tr>\n",
       "    <tr>\n",
       "      <th>13197</th>\n",
       "      <td>Raja Rajeshwari Nagar</td>\n",
       "      <td>2 BHK</td>\n",
       "      <td>1141.0</td>\n",
       "      <td>2.0</td>\n",
       "      <td>60.00</td>\n",
       "      <td>2</td>\n",
       "      <td>5258</td>\n",
       "      <td>-0.339446</td>\n",
       "    </tr>\n",
       "    <tr>\n",
       "      <th>13198</th>\n",
       "      <td>Padmanabhanagar</td>\n",
       "      <td>4 BHK</td>\n",
       "      <td>4689.0</td>\n",
       "      <td>4.0</td>\n",
       "      <td>488.00</td>\n",
       "      <td>4</td>\n",
       "      <td>10407</td>\n",
       "      <td>0.903967</td>\n",
       "    </tr>\n",
       "    <tr>\n",
       "      <th>13199</th>\n",
       "      <td>Doddathoguru</td>\n",
       "      <td>1 BHK</td>\n",
       "      <td>550.0</td>\n",
       "      <td>1.0</td>\n",
       "      <td>17.00</td>\n",
       "      <td>1</td>\n",
       "      <td>3090</td>\n",
       "      <td>-0.862989</td>\n",
       "    </tr>\n",
       "  </tbody>\n",
       "</table>\n",
       "<p>13172 rows × 8 columns</p>\n",
       "</div>"
      ],
      "text/plain": [
       "                       location       size  total_sqft  bath   price  bhk  \\\n",
       "0      Electronic City Phase II      2 BHK      1056.0   2.0   39.07    2   \n",
       "1              Chikka Tirupathi  4 Bedroom      2600.0   5.0  120.00    4   \n",
       "2                   Uttarahalli      3 BHK      1440.0   2.0   62.00    3   \n",
       "3            Lingadheeranahalli      3 BHK      1521.0   3.0   95.00    3   \n",
       "4                      Kothanur      2 BHK      1200.0   2.0   51.00    2   \n",
       "...                         ...        ...         ...   ...     ...  ...   \n",
       "13195                Whitefield  5 Bedroom      3453.0   4.0  231.00    5   \n",
       "13196                     other      4 BHK      3600.0   5.0  400.00    4   \n",
       "13197     Raja Rajeshwari Nagar      2 BHK      1141.0   2.0   60.00    2   \n",
       "13198           Padmanabhanagar      4 BHK      4689.0   4.0  488.00    4   \n",
       "13199              Doddathoguru      1 BHK       550.0   1.0   17.00    1   \n",
       "\n",
       "       price_per_sqft   Z-Score  \n",
       "0                3699 -0.715923  \n",
       "1                4615 -0.494722  \n",
       "2                4305 -0.569583  \n",
       "3                6245 -0.101099  \n",
       "4                4250 -0.582864  \n",
       "...               ...       ...  \n",
       "13195            6689  0.006121  \n",
       "13196           11111  1.073973  \n",
       "13197            5258 -0.339446  \n",
       "13198           10407  0.903967  \n",
       "13199            3090 -0.862989  \n",
       "\n",
       "[13172 rows x 8 columns]"
      ]
     },
     "execution_count": 39,
     "metadata": {},
     "output_type": "execute_result"
    }
   ],
   "source": [
    "df_0"
   ]
  },
  {
   "cell_type": "code",
   "execution_count": 40,
   "id": "23ca1bca",
   "metadata": {},
   "outputs": [],
   "source": [
    "df_new = df_0[(df_0['Z-Score'] > -4) & (df_0['Z-Score'] < 4)]"
   ]
  },
  {
   "cell_type": "code",
   "execution_count": 41,
   "id": "0603cddc",
   "metadata": {},
   "outputs": [
    {
     "data": {
      "text/plain": [
       "(13047, 8)"
      ]
     },
     "execution_count": 41,
     "metadata": {},
     "output_type": "execute_result"
    }
   ],
   "source": [
    "df_new.shape"
   ]
  },
  {
   "cell_type": "code",
   "execution_count": 42,
   "id": "acb9361f",
   "metadata": {},
   "outputs": [
    {
     "data": {
      "text/plain": [
       "(13172, 8)"
      ]
     },
     "execution_count": 42,
     "metadata": {},
     "output_type": "execute_result"
    }
   ],
   "source": [
    "df_0.shape"
   ]
  },
  {
   "cell_type": "code",
   "execution_count": 43,
   "id": "92266086",
   "metadata": {},
   "outputs": [
    {
     "data": {
      "text/plain": [
       "((13200, 7), (13172, 8), (13047, 7), (13047, 8))"
      ]
     },
     "execution_count": 43,
     "metadata": {},
     "output_type": "execute_result"
    }
   ],
   "source": [
    "df.shape, df_0.shape, df_1.shape, df_new.shape"
   ]
  },
  {
   "cell_type": "code",
   "execution_count": null,
   "id": "265a8ed6",
   "metadata": {},
   "outputs": [],
   "source": []
  }
 ],
 "metadata": {
  "kernelspec": {
   "display_name": "Python 3",
   "language": "python",
   "name": "python3"
  },
  "language_info": {
   "codemirror_mode": {
    "name": "ipython",
    "version": 3
   },
   "file_extension": ".py",
   "mimetype": "text/x-python",
   "name": "python",
   "nbconvert_exporter": "python",
   "pygments_lexer": "ipython3",
   "version": "3.13.3"
  }
 },
 "nbformat": 4,
 "nbformat_minor": 5
}
